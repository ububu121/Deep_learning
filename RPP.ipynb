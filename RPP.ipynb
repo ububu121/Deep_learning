{
  "nbformat": 4,
  "nbformat_minor": 0,
  "metadata": {
    "colab": {
      "provenance": [],
      "authorship_tag": "ABX9TyPKZlVJklc1IM5rT8Uby5di"
    },
    "kernelspec": {
      "name": "python3",
      "display_name": "Python 3"
    },
    "language_info": {
      "name": "python"
    }
  },
  "cells": [
    {
      "cell_type": "code",
      "source": [
        "import numpy as np\n",
        "import keras\n",
        "from matplotlib import pyplot as plt\n",
        "from scipy.io import loadmat #библиотека для загрузки .mat\n",
        "from sklearn.model_selection import train_test_split\n",
        "from sklearn.preprocessing import LabelBinarizer\n",
        "from sklearn.metrics import confusion_matrix\n",
        "from keras.preprocessing.image import ImageDataGenerator\n",
        "%matplotlib inline"
      ],
      "metadata": {
        "id": "7s_aKH-1oR5U"
      },
      "execution_count": 1,
      "outputs": []
    },
    {
      "cell_type": "code",
      "execution_count": 2,
      "metadata": {
        "id": "KN8UnuHlnufe"
      },
      "outputs": [],
      "source": [
        "#np.random.seed(10)\n"
      ]
    },
    {
      "cell_type": "code",
      "source": [
        "from google.colab import drive #монтируем виртуальный диск для доступа к загруженным данным\n",
        "drive.mount('/content/gdrive')"
      ],
      "metadata": {
        "colab": {
          "base_uri": "https://localhost:8080/"
        },
        "id": "tScC3RIdr8Aw",
        "outputId": "1a537ac7-0901-4e2e-bb45-0560bdc79904"
      },
      "execution_count": 3,
      "outputs": [
        {
          "output_type": "stream",
          "name": "stdout",
          "text": [
            "Mounted at /content/gdrive\n"
          ]
        }
      ]
    },
    {
      "cell_type": "code",
      "source": [
        "train_data = loadmat('/content/gdrive/MyDrive/Colab Notebooks/train_32x32.mat')\n",
        "test_data = loadmat('/content/gdrive/MyDrive/Colab Notebooks/test_32x32.mat')"
      ],
      "metadata": {
        "id": "jryczarnoWbM"
      },
      "execution_count": 4,
      "outputs": []
    },
    {
      "cell_type": "code",
      "source": [
        "train_img = np.array(train_data['X']) # заносим данные в массив\n",
        "test_img = np.array(test_data['X'])\n",
        "\n",
        "train_labels = train_data['y']\n",
        "test_labels = test_data['y']"
      ],
      "metadata": {
        "id": "BacDh713vrp0"
      },
      "execution_count": 5,
      "outputs": []
    },
    {
      "cell_type": "code",
      "source": [
        "print(train_img.shape)\n",
        "print(test_img.shape)"
      ],
      "metadata": {
        "colab": {
          "base_uri": "https://localhost:8080/"
        },
        "id": "tMuDMtS5wxYk",
        "outputId": "8177727b-e1fc-4738-a4de-c4062ef491f4"
      },
      "execution_count": 6,
      "outputs": [
        {
          "output_type": "stream",
          "name": "stdout",
          "text": [
            "(32, 32, 3, 73257)\n",
            "(32, 32, 3, 26032)\n"
          ]
        }
      ]
    },
    {
      "cell_type": "code",
      "source": [
        "train_img = np.moveaxis(train_img, -1, 0)\n",
        "test_img = np.moveaxis(test_img, -1, 0)\n",
        "\n",
        "                                                      #переделаем для нужд keras\n",
        "print(train_img.shape)\n",
        "print(test_img.shape)"
      ],
      "metadata": {
        "colab": {
          "base_uri": "https://localhost:8080/"
        },
        "id": "WbAiVWHLw4A6",
        "outputId": "8f9e6240-a663-444d-b545-0b4cc79c52c7"
      },
      "execution_count": 7,
      "outputs": [
        {
          "output_type": "stream",
          "name": "stdout",
          "text": [
            "(73257, 32, 32, 3)\n",
            "(26032, 32, 32, 3)\n"
          ]
        }
      ]
    },
    {
      "cell_type": "code",
      "source": [
        "plt.imshow(train_img[7212])\n",
        "plt.show()\n",
        "print(train_labels[7212])"
      ],
      "metadata": {
        "colab": {
          "base_uri": "https://localhost:8080/",
          "height": 448
        },
        "id": "MUr2TqbMxOIZ",
        "outputId": "202eab06-08d7-4da5-e227-63a0eedff381"
      },
      "execution_count": 10,
      "outputs": [
        {
          "output_type": "display_data",
          "data": {
            "text/plain": [
              "<Figure size 640x480 with 1 Axes>"
            ],
            "image/png": "[encoded data removed]"
          },
          "metadata": {}
        },
        {
          "output_type": "stream",
          "name": "stdout",
          "text": [
            "[5]\n"
          ]
        }
      ]
    },
    {
      "cell_type": "code",
      "source": [
        "train_img = train_img.astype('float64')\n",
        "test_img = test_img.astype('float64')\n",
        "\n",
        "train_labels = train_labels.astype('int64')\n",
        "test_labels = test_labels.astype('int64')"
      ],
      "metadata": {
        "id": "20mqkWrTx9-I"
      },
      "execution_count": 11,
      "outputs": []
    },
    {
      "cell_type": "code",
      "source": [
        "train_img /= 255.0 #нормализуем массивы\n",
        "test_img /= 255.0#кодируем в 0 и 1"
      ],
      "metadata": {
        "id": "f856RHiBzGKi"
      },
      "execution_count": 12,
      "outputs": []
    },
    {
      "cell_type": "code",
      "source": [
        "lb = LabelBinarizer()\n",
        "train_labels = lb.fit_transform(train_labels)#адаптация модели к данным и преобразование\n",
        "test_labels = lb.fit_transform(test_labels)"
      ],
      "metadata": {
        "id": "EF2bmDnwzO9t"
      },
      "execution_count": 13,
      "outputs": []
    },
    {
      "cell_type": "code",
      "source": [
        "X_train, X_val, y_train, y_val = train_test_split(train_img, train_labels,\n",
        "                                                  test_size=0.15, random_state=10)"
      ],
      "metadata": {
        "id": "lLfK8Boqz7mf"
      },
      "execution_count": 14,
      "outputs": []
    },
    {
      "cell_type": "code",
      "source": [
        "datagen = ImageDataGenerator(rotation_range=8,\n",
        "                             zoom_range=[0.95, 1.05],\n",
        "                             height_shift_range=0.10,\n",
        "                             shear_range=0.15)#предобработка изображений"
      ],
      "metadata": {
        "id": "eQGj3kRT0G0v"
      },
      "execution_count": 15,
      "outputs": []
    },
    {
      "cell_type": "code",
      "source": [
        "keras.backend.clear_session()#Сбрасывает все состояния, созданные Keras\n",
        "#настройка слоев\n",
        "model = keras.Sequential([\n",
        "    keras.layers.Conv2D(32, (3, 3), padding='same',\n",
        "                           activation='relu',\n",
        "                           input_shape=(32, 32, 3)),\n",
        "    keras.layers.BatchNormalization(),\n",
        "    keras.layers.Conv2D(32, (3, 3), padding='same',\n",
        "                        activation='relu'),\n",
        "    keras.layers.MaxPooling2D((2, 2)),\n",
        "    keras.layers.Dropout(0.3),\n",
        "\n",
        "    keras.layers.Conv2D(64, (3, 3), padding='same',\n",
        "                           activation='relu'),\n",
        "    keras.layers.BatchNormalization(),\n",
        "    keras.layers.Conv2D(64, (3, 3), padding='same',\n",
        "                        activation='relu'),\n",
        "    keras.layers.MaxPooling2D((2, 2)),\n",
        "    keras.layers.Dropout(0.3),\n",
        "\n",
        "    keras.layers.Conv2D(128, (3, 3), padding='same',\n",
        "                           activation='relu'),\n",
        "    keras.layers.BatchNormalization(),\n",
        "    keras.layers.Conv2D(128, (3, 3), padding='same',\n",
        "                        activation='relu'),\n",
        "    keras.layers.MaxPooling2D((2, 2)),\n",
        "    keras.layers.Dropout(0.3),\n",
        "\n",
        "    keras.layers.Flatten(),\n",
        "    keras.layers.Dense(128, activation='relu'),\n",
        "    keras.layers.Dropout(0.4),\n",
        "    keras.layers.Dense(10,  activation='softmax')\n",
        "])\n",
        "\n",
        "early_stopping = keras.callbacks.EarlyStopping(patience=8)#Прекратить обучение, когда метрика перестала улучшаться.\n",
        "optimizer = keras.optimizers.Adam(lr=1e-3, amsgrad=True) #оптимизатор Адам - самый оптимальный\n",
        "model_checkpoint = keras.callbacks.ModelCheckpoint(\n",
        "                   '/kaggle/working/best_cnn.h5',\n",
        "                   save_best_only=True)#сохранить ту модель, что достигла наилучший результат\n",
        "model.compile(optimizer=optimizer,\n",
        "              loss='categorical_crossentropy',\n",
        "              metrics=['accuracy'])"
      ],
      "metadata": {
        "id": "2tM58gIM0LnF",
        "colab": {
          "base_uri": "https://localhost:8080/"
        },
        "outputId": "00a67a06-de85-425e-a659-a3bbe7e88e0e"
      },
      "execution_count": 17,
      "outputs": [
        {
          "output_type": "stream",
          "name": "stderr",
          "text": [
            "WARNING:absl:`lr` is deprecated in Keras optimizer, please use `learning_rate` or use the legacy optimizer, e.g.,tf.keras.optimizers.legacy.Adam.\n"
          ]
        }
      ]
    },
    {
      "cell_type": "code",
      "source": [
        "history = model.fit_generator(datagen.flow(X_train, y_train, batch_size=128),\n",
        "                              epochs=10, validation_data=(X_val, y_val),\n",
        "                              callbacks=[early_stopping, model_checkpoint])"
      ],
      "metadata": {
        "colab": {
          "base_uri": "https://localhost:8080/"
        },
        "id": "pwdcUj-80UlG",
        "outputId": "bc253203-d6f3-4459-ae27-a0c6d9fbd5ab"
      },
      "execution_count": 18,
      "outputs": [
        {
          "output_type": "stream",
          "name": "stdout",
          "text": [
            "Epoch 1/10\n"
          ]
        },
        {
          "output_type": "stream",
          "name": "stderr",
          "text": [
            "<ipython-input-18-7470399bbdfb>:1: UserWarning: `Model.fit_generator` is deprecated and will be removed in a future version. Please use `Model.fit`, which supports generators.\n",
            "  history = model.fit_generator(datagen.flow(X_train, y_train, batch_size=128),\n"
          ]
        },
        {
          "output_type": "stream",
          "name": "stdout",
          "text": [
            "487/487 [==============================] - 317s 646ms/step - loss: 2.1802 - accuracy: 0.2041 - val_loss: 1.6876 - val_accuracy: 0.3780\n"
          ]
        },
        {
          "output_type": "stream",
          "name": "stderr",
          "text": [
            "/usr/local/lib/python3.10/dist-packages/keras/src/engine/training.py:3079: UserWarning: You are saving your model as an HDF5 file via `model.save()`. This file format is considered legacy. We recommend using instead the native Keras format, e.g. `model.save('my_model.keras')`.\n",
            "  saving_api.save_model(\n"
          ]
        },
        {
          "output_type": "stream",
          "name": "stdout",
          "text": [
            "Epoch 2/10\n",
            "487/487 [==============================] - 314s 645ms/step - loss: 1.6230 - accuracy: 0.3984 - val_loss: 0.8740 - val_accuracy: 0.7205\n",
            "Epoch 3/10\n",
            "487/487 [==============================] - 309s 636ms/step - loss: 1.0369 - accuracy: 0.6392 - val_loss: 0.5183 - val_accuracy: 0.8395\n",
            "Epoch 4/10\n",
            "487/487 [==============================] - 308s 632ms/step - loss: 0.5719 - accuracy: 0.8321 - val_loss: 0.3102 - val_accuracy: 0.9086\n",
            "Epoch 5/10\n",
            "487/487 [==============================] - 311s 639ms/step - loss: 0.4462 - accuracy: 0.8728 - val_loss: 0.3064 - val_accuracy: 0.9145\n",
            "Epoch 6/10\n",
            "487/487 [==============================] - 311s 638ms/step - loss: 0.3876 - accuracy: 0.8900 - val_loss: 0.3017 - val_accuracy: 0.9124\n",
            "Epoch 7/10\n",
            "487/487 [==============================] - 312s 639ms/step - loss: 0.3531 - accuracy: 0.8997 - val_loss: 0.2652 - val_accuracy: 0.9276\n",
            "Epoch 8/10\n",
            "487/487 [==============================] - 314s 645ms/step - loss: 0.3265 - accuracy: 0.9071 - val_loss: 0.2597 - val_accuracy: 0.9279\n",
            "Epoch 9/10\n",
            "487/487 [==============================] - 314s 645ms/step - loss: 0.3141 - accuracy: 0.9115 - val_loss: 0.2642 - val_accuracy: 0.9245\n",
            "Epoch 10/10\n",
            "487/487 [==============================] - 315s 647ms/step - loss: 0.3011 - accuracy: 0.9142 - val_loss: 0.2850 - val_accuracy: 0.9182\n"
          ]
        }
      ]
    },
    {
      "cell_type": "code",
      "source": [
        "test_loss, test_acc = model.evaluate(x=test_img, y=test_labels, verbose=0)\n",
        "\n",
        "print('Точность: {:0.4f} \\nПотери is: {:0.4f}'.format(test_acc, test_loss))# узнаем точность и потери"
      ],
      "metadata": {
        "colab": {
          "base_uri": "https://localhost:8080/"
        },
        "id": "hvTEulRuOcmB",
        "outputId": "8429fa98-d8ac-4a40-f97d-a93f993f9841"
      },
      "execution_count": 19,
      "outputs": [
        {
          "output_type": "stream",
          "name": "stdout",
          "text": [
            "Точность: 0.9347 \n",
            "Потери is: 0.2424\n"
          ]
        }
      ]
    },
    {
      "cell_type": "code",
      "source": [
        "k = 15566\n",
        "plt.imshow(test_img[k])\n",
        "print(model.predict(np.array([test_img[k]])))"
      ],
      "metadata": {
        "colab": {
          "base_uri": "https://localhost:8080/",
          "height": 485
        },
        "id": "Pqzw_gKbS1o8",
        "outputId": "b9c9908e-38da-4983-d27a-d37964bd71f8"
      },
      "execution_count": 55,
      "outputs": [
        {
          "output_type": "stream",
          "name": "stdout",
          "text": [
            "1/1 [==============================] - 0s 15ms/step\n",
            "[[2.0747991e-06 2.9719004e-07 1.0366444e-08 9.9999750e-01 2.7246367e-09\n",
            "  7.8580564e-09 1.7255251e-08 9.7210400e-09 7.9851370e-09 4.9572213e-10]]\n"
          ]
        },
        {
          "output_type": "display_data",
          "data": {
            "text/plain": [
              "<Figure size 640x480 with 1 Axes>"
            ],
            "image/png": "[encoded data removed]"
          },
          "metadata": {}
        }
      ]
    },
    {
      "cell_type": "code",
      "source": [
        "print( np.argmax(model.predict(np.array([test_img[k]])))+1 )"
      ],
      "metadata": {
        "colab": {
          "base_uri": "https://localhost:8080/"
        },
        "id": "8KLMWAyaWn_N",
        "outputId": "8d9798fe-5f3b-4afa-9c6a-f4b60729f8e7"
      },
      "execution_count": 54,
      "outputs": [
        {
          "output_type": "stream",
          "name": "stdout",
          "text": [
            "1/1 [==============================] - 0s 15ms/step\n",
            "4\n"
          ]
        }
      ]
    }
  ]
}