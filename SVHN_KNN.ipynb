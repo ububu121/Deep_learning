{
  "nbformat": 4,
  "nbformat_minor": 0,
  "metadata": {
    "colab": {
      "provenance": [],
      "authorship_tag": "ABX9TyPgAIcx4vo9ikBSxTFnFRDk"
    },
    "kernelspec": {
      "name": "python3",
      "display_name": "Python 3"
    },
    "language_info": {
      "name": "python"
    }
  },
  "cells": [
    {
      "cell_type": "code",
      "source": [
        "import numpy as np\n",
        "import keras\n",
        "from matplotlib import pyplot as plt\n",
        "from scipy.io import loadmat #библиотека для загрузки .mat\n",
        "from sklearn.model_selection import train_test_split\n",
        "from sklearn.preprocessing import LabelBinarizer\n",
        "from sklearn.metrics import confusion_matrix\n",
        "from keras.preprocessing.image import ImageDataGenerator\n",
        "%matplotlib inline"
      ],
      "metadata": {
        "id": "7s_aKH-1oR5U"
      },
      "execution_count": null,
      "outputs": []
    },
    {
      "cell_type": "code",
      "execution_count": null,
      "metadata": {
        "id": "KN8UnuHlnufe"
      },
      "outputs": [],
      "source": [
        "#np.random.seed(10)\n"
      ]
    },
    {
      "cell_type": "code",
      "source": [
        "from google.colab import drive #монтируем виртуальный диск для доступа к загруженным данным\n",
        "drive.mount('/content/gdrive')"
      ],
      "metadata": {
        "colab": {
          "base_uri": "https://localhost:8080/"
        },
        "id": "tScC3RIdr8Aw",
        "outputId": "8bb71477-8771-46c7-dddd-54db0262bfed"
      },
      "execution_count": null,
      "outputs": [
        {
          "output_type": "stream",
          "name": "stdout",
          "text": [
            "Drive already mounted at /content/gdrive; to attempt to forcibly remount, call drive.mount(\"/content/gdrive\", force_remount=True).\n"
          ]
        }
      ]
    },
    {
      "cell_type": "code",
      "source": [],
      "metadata": {
        "id": "M-cjFbftugXM"
      },
      "execution_count": null,
      "outputs": []
    },
    {
      "cell_type": "code",
      "source": [
        "train_data = loadmat('/content/gdrive/MyDrive/Colab Notebooks/train_32x32.mat')\n",
        "test_data = loadmat('/content/gdrive/MyDrive/Colab Notebooks/test_32x32.mat')"
      ],
      "metadata": {
        "id": "jryczarnoWbM"
      },
      "execution_count": null,
      "outputs": []
    },
    {
      "cell_type": "code",
      "source": [
        "train_img = np.array(train_data['X']) # заносим данные в массив\n",
        "test_img = np.array(test_data['X'])\n",
        "\n",
        "train_labels = train_data['y']\n",
        "test_labels = test_data['y']"
      ],
      "metadata": {
        "id": "BacDh713vrp0"
      },
      "execution_count": 32,
      "outputs": []
    },
    {
      "cell_type": "code",
      "source": [
        "print(train_img.shape)\n",
        "print(test_img.shape)"
      ],
      "metadata": {
        "colab": {
          "base_uri": "https://localhost:8080/"
        },
        "id": "tMuDMtS5wxYk",
        "outputId": "943a2df1-fca2-452c-cda0-59052f7da19f"
      },
      "execution_count": 33,
      "outputs": [
        {
          "output_type": "stream",
          "name": "stdout",
          "text": [
            "(32, 32, 3, 73257)\n",
            "(32, 32, 3, 26032)\n"
          ]
        }
      ]
    },
    {
      "cell_type": "code",
      "source": [
        "train_img = np.moveaxis(train_img, -1, 0)\n",
        "test_img = np.moveaxis(test_img, -1, 0)\n",
        "\n",
        "                                                      #переделаем для нужд keras\n",
        "print(train_img.shape)\n",
        "print(test_img.shape)"
      ],
      "metadata": {
        "colab": {
          "base_uri": "https://localhost:8080/"
        },
        "id": "WbAiVWHLw4A6",
        "outputId": "f25aac41-16c3-4994-d171-ee3332ea6f7c"
      },
      "execution_count": 34,
      "outputs": [
        {
          "output_type": "stream",
          "name": "stdout",
          "text": [
            "(73257, 32, 32, 3)\n",
            "(26032, 32, 32, 3)\n"
          ]
        }
      ]
    },
    {
      "cell_type": "code",
      "source": [
        "plt.imshow(train_img[7717])\n",
        "plt.show()\n",
        "print(train_labels[7717])"
      ],
      "metadata": {
        "colab": {
          "base_uri": "https://localhost:8080/",
          "height": 283
        },
        "id": "MUr2TqbMxOIZ",
        "outputId": "bf8affdf-ad2c-4458-8a58-95863d1710db"
      },
      "execution_count": 41,
      "outputs": [
        {
          "output_type": "display_data",
          "data": {
            "text/plain": [
              "<Figure size 432x288 with 1 Axes>"
            ],
            "image/png": "[encoded data removed]"
          },
          "metadata": {
            "needs_background": "light"
          }
        },
        {
          "output_type": "stream",
          "name": "stdout",
          "text": [
            "[2]\n"
          ]
        }
      ]
    },
    {
      "cell_type": "code",
      "source": [
        "train_img = train_img.astype('float64')\n",
        "test_img = test_img.astype('float64')\n",
        "\n",
        "train_labels = train_labels.astype('int64')\n",
        "test_labels = test_labels.astype('int64')"
      ],
      "metadata": {
        "id": "20mqkWrTx9-I"
      },
      "execution_count": 46,
      "outputs": []
    },
    {
      "cell_type": "code",
      "source": [
        "train_img /= 255.0 #нормализуем массивы\n",
        "test_img /= 255.0"
      ],
      "metadata": {
        "id": "f856RHiBzGKi"
      },
      "execution_count": 47,
      "outputs": []
    },
    {
      "cell_type": "code",
      "source": [
        "lb = LabelBinarizer()\n",
        "train_labels = lb.fit_transform(train_labels)\n",
        "test_labels = lb.fit_transform(test_labels)#кодируем в 0 и 1"
      ],
      "metadata": {
        "id": "EF2bmDnwzO9t"
      },
      "execution_count": 51,
      "outputs": []
    },
    {
      "cell_type": "code",
      "source": [
        "X_train, X_val, y_train, y_val = train_test_split(train_img, train_labels,\n",
        "                                                  test_size=0.15, random_state=10)"
      ],
      "metadata": {
        "id": "lLfK8Boqz7mf"
      },
      "execution_count": 52,
      "outputs": []
    },
    {
      "cell_type": "code",
      "source": [
        "datagen = ImageDataGenerator(rotation_range=8,\n",
        "                             zoom_range=[0.95, 1.05],\n",
        "                             height_shift_range=0.10,\n",
        "                             shear_range=0.15)#предобработка изображений"
      ],
      "metadata": {
        "id": "eQGj3kRT0G0v"
      },
      "execution_count": 54,
      "outputs": []
    },
    {
      "cell_type": "code",
      "source": [
        "keras.backend.clear_session()#Сбрасывает все состояния, созданные Keras\n",
        "#настройка слоев \n",
        "model = keras.Sequential([\n",
        "    keras.layers.Conv2D(32, (3, 3), padding='same', \n",
        "                           activation='relu',\n",
        "                           input_shape=(32, 32, 3)),\n",
        "    keras.layers.BatchNormalization(),\n",
        "    keras.layers.Conv2D(32, (3, 3), padding='same', \n",
        "                        activation='relu'),\n",
        "    keras.layers.MaxPooling2D((2, 2)),\n",
        "    keras.layers.Dropout(0.3),\n",
        "    \n",
        "    keras.layers.Conv2D(64, (3, 3), padding='same', \n",
        "                           activation='relu'),\n",
        "    keras.layers.BatchNormalization(),\n",
        "    keras.layers.Conv2D(64, (3, 3), padding='same',\n",
        "                        activation='relu'),\n",
        "    keras.layers.MaxPooling2D((2, 2)),\n",
        "    keras.layers.Dropout(0.3),\n",
        "    \n",
        "    keras.layers.Conv2D(128, (3, 3), padding='same', \n",
        "                           activation='relu'),\n",
        "    keras.layers.BatchNormalization(),\n",
        "    keras.layers.Conv2D(128, (3, 3), padding='same',\n",
        "                        activation='relu'),\n",
        "    keras.layers.MaxPooling2D((2, 2)),\n",
        "    keras.layers.Dropout(0.3),\n",
        "    \n",
        "    keras.layers.Flatten(),\n",
        "    keras.layers.Dense(128, activation='relu'),\n",
        "    keras.layers.Dropout(0.4),    \n",
        "    keras.layers.Dense(10,  activation='softmax')\n",
        "])\n",
        "\n",
        "early_stopping = keras.callbacks.EarlyStopping(patience=8)#Прекратить обучение, когда метрика перестала улучшаться.\n",
        "optimizer = keras.optimizers.Adam(lr=1e-3, amsgrad=True) #оптимизатор Адам - самый оптимальный\n",
        "model_checkpoint = keras.callbacks.ModelCheckpoint(\n",
        "                   '/kaggle/working/best_cnn.h5', \n",
        "                   save_best_only=True)#сохранить ту модель, что достигла наилучший результат\n",
        "model.compile(optimizer=optimizer,\n",
        "              loss='categorical_crossentropy',\n",
        "              metrics=['accuracy'])"
      ],
      "metadata": {
        "id": "2tM58gIM0LnF"
      },
      "execution_count": 57,
      "outputs": []
    },
    {
      "cell_type": "code",
      "source": [
        "history = model.fit_generator(datagen.flow(X_train, y_train, batch_size=128),\n",
        "                              epochs=10, validation_data=(X_val, y_val),\n",
        "                              callbacks=[early_stopping, model_checkpoint])"
      ],
      "metadata": {
        "colab": {
          "base_uri": "https://localhost:8080/"
        },
        "id": "pwdcUj-80UlG",
        "outputId": "452641e4-a38f-4c59-825d-64e416e0d2b3"
      },
      "execution_count": 60,
      "outputs": [
        {
          "output_type": "stream",
          "name": "stdout",
          "text": [
            "Epoch 1/10\n"
          ]
        },
        {
          "output_type": "stream",
          "name": "stderr",
          "text": [
            "/usr/local/lib/python3.7/dist-packages/ipykernel_launcher.py:3: UserWarning: `Model.fit_generator` is deprecated and will be removed in a future version. Please use `Model.fit`, which supports generators.\n",
            "  This is separate from the ipykernel package so we can avoid doing imports until\n"
          ]
        },
        {
          "output_type": "stream",
          "name": "stdout",
          "text": [
            "487/487 [==============================] - 594s 1s/step - loss: 2.1086 - accuracy: 0.2262 - val_loss: 1.5107 - val_accuracy: 0.4312\n",
            "Epoch 2/10\n",
            "487/487 [==============================] - 590s 1s/step - loss: 1.6416 - accuracy: 0.3613 - val_loss: 0.9935 - val_accuracy: 0.6789\n",
            "Epoch 3/10\n",
            "487/487 [==============================] - 593s 1s/step - loss: 0.9572 - accuracy: 0.6753 - val_loss: 0.4881 - val_accuracy: 0.8531\n",
            "Epoch 4/10\n",
            "487/487 [==============================] - 590s 1s/step - loss: 0.5231 - accuracy: 0.8478 - val_loss: 0.3086 - val_accuracy: 0.9125\n",
            "Epoch 5/10\n",
            "487/487 [==============================] - 588s 1s/step - loss: 0.4182 - accuracy: 0.8807 - val_loss: 0.2938 - val_accuracy: 0.9184\n",
            "Epoch 6/10\n",
            "487/487 [==============================] - 586s 1s/step - loss: 0.3817 - accuracy: 0.8912 - val_loss: 0.2541 - val_accuracy: 0.9303\n",
            "Epoch 7/10\n",
            "487/487 [==============================] - 586s 1s/step - loss: 0.3438 - accuracy: 0.9015 - val_loss: 0.2679 - val_accuracy: 0.9278\n",
            "Epoch 8/10\n",
            "487/487 [==============================] - 592s 1s/step - loss: 0.3289 - accuracy: 0.9070 - val_loss: 0.2421 - val_accuracy: 0.9363\n",
            "Epoch 9/10\n",
            "487/487 [==============================] - 605s 1s/step - loss: 0.3077 - accuracy: 0.9127 - val_loss: 0.2665 - val_accuracy: 0.9261\n",
            "Epoch 10/10\n",
            "487/487 [==============================] - 601s 1s/step - loss: 0.2931 - accuracy: 0.9171 - val_loss: 0.2216 - val_accuracy: 0.9417\n"
          ]
        }
      ]
    },
    {
      "cell_type": "code",
      "source": [
        "test_loss, test_acc = model.evaluate(x=test_img, y=test_labels, verbose=0)\n",
        "\n",
        "print('Точность: {:0.4f} \\nПотери is: {:0.4f}'.format(test_acc, test_loss))# узнаем точность и потери"
      ],
      "metadata": {
        "colab": {
          "base_uri": "https://localhost:8080/"
        },
        "id": "hvTEulRuOcmB",
        "outputId": "691002b5-24c3-4255-9ff1-35eba604a9c4"
      },
      "execution_count": 63,
      "outputs": [
        {
          "output_type": "stream",
          "name": "stdout",
          "text": [
            "Точность: 0.9472 \n",
            "Потери is: 0.2140\n"
          ]
        }
      ]
    }
  ]
}